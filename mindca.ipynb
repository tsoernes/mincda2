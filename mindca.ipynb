{
 "cells": [
  {
   "cell_type": "markdown",
   "id": "7e8f6d77-cd2c-4045-b418-3181cf293c55",
   "metadata": {},
   "source": [
    "forklar problemstilling\n",
    "forklar reuse constraint\n",
    "forklar FCA og partitioning\n",
    "forklar RL - hvordan RL kan være nyttig for å fobedre andre ML systemer - eksempelvis recommender systems eller LLMer (RLHF) hvor RL kan brukes til å forbedre systemet ved at brukeren gir en enkel feedback (en reward - f.eks en score fra 0 til 10). Det er mye raskere og enklere for brukerne av systemet til å gi en score på hvor god en LLM respons er kontra det å skrive ut en full LLM respons for å bruke til supervised learning. "
   ]
  }
 ],
 "metadata": {
  "kernelspec": {
   "display_name": "Python 3 (ipykernel)",
   "language": "python",
   "name": "python3"
  },
  "language_info": {
   "codemirror_mode": {
    "name": "ipython",
    "version": 3
   },
   "file_extension": ".py",
   "mimetype": "text/x-python",
   "name": "python",
   "nbconvert_exporter": "python",
   "pygments_lexer": "ipython3",
   "version": "3.12.3"
  }
 },
 "nbformat": 4,
 "nbformat_minor": 5
}
